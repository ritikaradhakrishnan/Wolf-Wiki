{
 "cells": [
  {
   "cell_type": "code",
   "execution_count": null,
   "id": "composed-protest",
   "metadata": {},
   "outputs": [],
   "source": [
    "pip install wolframalpha\n",
    "pip install pysimplegui\n",
    "pip install wikipedia\n",
    "pip install pyttsx3"
   ]
  },
  {
   "cell_type": "code",
   "execution_count": null,
   "id": "laughing-aggregate",
   "metadata": {},
   "outputs": [
    {
     "name": "stdout",
     "output_type": "stream",
     "text": [
      "* Error performing wm_overrideredirect while hiding the hidden master root* expected boolean value but got \"\"\n"
     ]
    }
   ],
   "source": [
    "import wolframalpha\n",
    "client = wolframalpha.Client(\"TT7G46-9GVXEKAG9R\")\n",
    "\n",
    "import wikipedia\n",
    "\n",
    "import PySimpleGUI as sg\n",
    "sg.theme('GreenMono')\n",
    "\n",
    "layout =[[sg.Text('Enter your command :'), sg.InputText()],[sg.Button('OK'), sg.Button('Close')]]\n",
    "window = sg.Window('Wolf-Wiki', layout)\n",
    "\n",
    "import pyttsx3\n",
    "engine = pyttsx3.init()\n",
    "\n",
    "while True:\n",
    "    event, values = window.read()\n",
    "    if event in (None, 'Cancel'):\n",
    "        break\n",
    "    try:\n",
    "        wikipediaResult = wikipedia.summary(values[0], sentences=3)\n",
    "        wolframResults = next(client.query(values[0]).results).text\n",
    "        engine.say(\"According to Wolfram\"+wolframResults)\n",
    "        sg.PopupNonBlocking(\"According to Wolfram\"+wolframResults,\"According to Wikipedia\"+wikipediaResult)\n",
    "\n",
    "    except wikipedia.exceptions.PageError:\n",
    "        wolframResults = next(client.query(values[0]).results).text\n",
    "        engine.say(\"According to Wolfram\"+wolframResults)\n",
    "        sg.PopupNonBlocking(wolframResults)\n",
    "    except wikipedia.exceptions.DisambiguationError:\n",
    "        wolframResult = next(client.query(values[0]).results).text\n",
    "        engine.say(\"According to Wolfram\"+wolframResults)\n",
    "        sg.PopupNonBlocking(wolframResults)\n",
    "    except:\n",
    "        wikipediaResult = wikipedia.summary(values[0], sentences=2)\n",
    "        engine.say(\"According to Wikipedia\"+wikipediaResult)\n",
    "        sg.PopupNonBlocking(wikipediaResult)\n",
    "\n",
    "\n",
    "    engine.runAndWait()\n",
    "\n",
    "    print (values[0])\n",
    "\n",
    "window.close()"
   ]
  },
  {
   "cell_type": "code",
   "execution_count": null,
   "id": "minute-boating",
   "metadata": {},
   "outputs": [],
   "source": []
  }
 ],
 "metadata": {
  "kernelspec": {
   "display_name": "Python 3",
   "language": "python",
   "name": "python3"
  },
  "language_info": {
   "codemirror_mode": {
    "name": "ipython",
    "version": 3
   },
   "file_extension": ".py",
   "mimetype": "text/x-python",
   "name": "python",
   "nbconvert_exporter": "python",
   "pygments_lexer": "ipython3",
   "version": "3.8.5"
  }
 },
 "nbformat": 4,
 "nbformat_minor": 5
}
